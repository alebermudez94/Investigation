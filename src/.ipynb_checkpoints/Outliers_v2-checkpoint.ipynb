{
 "cells": [
  {
   "cell_type": "code",
   "execution_count": 40,
   "metadata": {},
   "outputs": [],
   "source": [
    "# Importar las librerias o paquetes que necesitemos\n",
    "import pandas as pd\n",
    "import numpy as np\n",
    "%matplotlib inline\n",
    "import matplotlib.pyplot as plt\n",
    "from sklearn.preprocessing import StandardScaler\n",
    "from sklearn.manifold import TSNE\n",
    "from mpl_toolkits.mplot3d import Axes3D\n",
    "import seaborn as sns\n",
    "from sklearn.cluster import KMeans\n",
    "from ipywidgets import ColorPicker, VBox, interact, interactive, fixed\n",
    "import struct\n",
    "import ipyvolume as ipv\n",
    "from pylab import *"
   ]
  },
  {
   "cell_type": "code",
   "execution_count": 2,
   "metadata": {},
   "outputs": [],
   "source": [
    "dataset = pd.read_csv('data.csv', engine = 'c')"
   ]
  },
  {
   "cell_type": "code",
   "execution_count": 3,
   "metadata": {},
   "outputs": [
    {
     "data": {
      "text/html": [
       "<div>\n",
       "<style scoped>\n",
       "    .dataframe tbody tr th:only-of-type {\n",
       "        vertical-align: middle;\n",
       "    }\n",
       "\n",
       "    .dataframe tbody tr th {\n",
       "        vertical-align: top;\n",
       "    }\n",
       "\n",
       "    .dataframe thead th {\n",
       "        text-align: right;\n",
       "    }\n",
       "</style>\n",
       "<table border=\"1\" class=\"dataframe\">\n",
       "  <thead>\n",
       "    <tr style=\"text-align: right;\">\n",
       "      <th></th>\n",
       "      <th>Power</th>\n",
       "      <th>I1</th>\n",
       "      <th>I2</th>\n",
       "      <th>I3</th>\n",
       "      <th>V1</th>\n",
       "      <th>V2</th>\n",
       "      <th>V3</th>\n",
       "      <th>V4</th>\n",
       "      <th>V5</th>\n",
       "      <th>V6</th>\n",
       "      <th>...</th>\n",
       "      <th>V39</th>\n",
       "      <th>V40</th>\n",
       "      <th>V41</th>\n",
       "      <th>V42</th>\n",
       "      <th>V43</th>\n",
       "      <th>V44</th>\n",
       "      <th>V45</th>\n",
       "      <th>V46</th>\n",
       "      <th>V47</th>\n",
       "      <th>V48</th>\n",
       "    </tr>\n",
       "  </thead>\n",
       "  <tbody>\n",
       "    <tr>\n",
       "      <td>0</td>\n",
       "      <td>9751.855054</td>\n",
       "      <td>7.82412</td>\n",
       "      <td>7.711217</td>\n",
       "      <td>7.659327</td>\n",
       "      <td>26.98123</td>\n",
       "      <td>26.98123</td>\n",
       "      <td>26.973406</td>\n",
       "      <td>26.98123</td>\n",
       "      <td>26.98123</td>\n",
       "      <td>26.98123</td>\n",
       "      <td>...</td>\n",
       "      <td>25.923836</td>\n",
       "      <td>25.923836</td>\n",
       "      <td>25.916177</td>\n",
       "      <td>25.923836</td>\n",
       "      <td>25.923836</td>\n",
       "      <td>25.923836</td>\n",
       "      <td>25.923836</td>\n",
       "      <td>25.916177</td>\n",
       "      <td>25.923836</td>\n",
       "      <td>25.923836</td>\n",
       "    </tr>\n",
       "  </tbody>\n",
       "</table>\n",
       "<p>1 rows × 52 columns</p>\n",
       "</div>"
      ],
      "text/plain": [
       "         Power       I1        I2        I3        V1        V2         V3  \\\n",
       "0  9751.855054  7.82412  7.711217  7.659327  26.98123  26.98123  26.973406   \n",
       "\n",
       "         V4        V5        V6  ...        V39        V40        V41  \\\n",
       "0  26.98123  26.98123  26.98123  ...  25.923836  25.923836  25.916177   \n",
       "\n",
       "         V42        V43        V44        V45        V46        V47        V48  \n",
       "0  25.923836  25.923836  25.923836  25.923836  25.916177  25.923836  25.923836  \n",
       "\n",
       "[1 rows x 52 columns]"
      ]
     },
     "execution_count": 3,
     "metadata": {},
     "output_type": "execute_result"
    }
   ],
   "source": [
    "dataset.head(1)"
   ]
  },
  {
   "cell_type": "code",
   "execution_count": 4,
   "metadata": {},
   "outputs": [
    {
     "name": "stdout",
     "output_type": "stream",
     "text": [
      "el shape de la data es (1985,)\n",
      " el tipo de estructura es  <class 'pandas.core.frame.DataFrame'>\n"
     ]
    }
   ],
   "source": [
    "temporal_normal = dataset[dataset['Power'] > 9200]\n",
    "\n",
    "temporal_normal = temporal_normal['Power']\n",
    "shape = temporal_normal.shape\n",
    "temporal_normal = pd.DataFrame(temporal_normal, columns= ['Power'])\n",
    "print(f'el shape de la data es {shape}')\n",
    "print(f' el tipo de estructura es  {type(temporal_normal)}')"
   ]
  },
  {
   "cell_type": "code",
   "execution_count": 5,
   "metadata": {},
   "outputs": [],
   "source": [
    "def boxplotvalue(dataset):\n",
    "    \n",
    "    first_percentile = np.percentile(dataset, 25)\n",
    "    third_percentile = np.percentile(dataset, 75)\n",
    "    IRQ = third_percentile - first_percentile\n",
    "    lower_limit = first_percentile - (1.5*IRQ)\n",
    "    return lower_limit\n",
    "\n",
    "def processingData(dataset, lower_limit, column):\n",
    "    \n",
    "    dataset['outlier'] = dataset[column].apply(lambda x : 1 if x < lower_limit else 0)\n",
    "    \n",
    "    return dataset\n",
    "\n",
    "def preprocessing_normal(dataset, attr, attr2):\n",
    "    temporal = dataset[dataset[attr] > 9200]\n",
    "    temporal = temporal[attr2]\n",
    "    shape = temporal.shape\n",
    "    temporal = pd.DataFrame(temporal, columns= [attr2])\n",
    "    print(f'el shape de la data es {shape}')\n",
    "    print(f' el tipo de estructura es  {type(temporal)}')\n",
    "    return temporal\n",
    "\n",
    "def preprocessing_no_normal(dataset, attr, attr2):\n",
    "    temporal = dataset[dataset[attr] < 9200]\n",
    "    temporal = temporal[attr2]\n",
    "    shape = temporal.shape\n",
    "    temporal = pd.DataFrame(temporal, columns= [attr2])\n",
    "    print(f'el shape de la data es {shape}')\n",
    "    print(f' el tipo de estructura es  {type(temporal)}')\n",
    "    return temporal\n",
    "    "
   ]
  },
  {
   "cell_type": "code",
   "execution_count": 6,
   "metadata": {},
   "outputs": [
    {
     "name": "stdout",
     "output_type": "stream",
     "text": [
      " el limite inferior es de  9319.726327\n"
     ]
    }
   ],
   "source": [
    "lower_limit =  boxplotvalue(temporal_normal)\n",
    "print(f' el limite inferior es de  {lower_limit}')"
   ]
  },
  {
   "cell_type": "code",
   "execution_count": 19,
   "metadata": {},
   "outputs": [
    {
     "data": {
      "text/plain": [
       "(1985, 2)"
      ]
     },
     "execution_count": 19,
     "metadata": {},
     "output_type": "execute_result"
    }
   ],
   "source": [
    "dataset_eval_normal = processingData(temporal_normal, lower_limit,  'Power')\n",
    "dataset_eval_normal.shape"
   ]
  },
  {
   "cell_type": "code",
   "execution_count": 8,
   "metadata": {},
   "outputs": [],
   "source": [
    "def evaluation(dataset, eval= 'normal'):\n",
    "    if eval == 'normal':\n",
    "        try:\n",
    "            normal = dataset.outlier.value_counts()[0]\n",
    "            no_normal =  dataset.outlier.value_counts()[1]\n",
    "        except:\n",
    "            no_normal =  dataset.outlier.value_counts()[1]\n",
    "            normal = 0\n",
    "    \n",
    "        return print(f' la cantidad de valores normales fueron {normal} y la cantidad de no normales es de {no_normal} para un acuracy de {(1-(no_normal/(normal+no_normal)))*100} %')\n",
    "    else:\n",
    "        try:\n",
    "            normal = dataset.outlier.value_counts()[0]\n",
    "            no_normal =  dataset.outlier.value_counts()[1]\n",
    "        except:\n",
    "            no_normal =  dataset.outlier.value_counts()[1]\n",
    "            normal = 0\n",
    "        return print(f' la cantidad de valores normales fueron {normal} y la cantidad de no normales es de {no_normal} para un acuracy de {(1-(normal/(normal+no_normal)))*100} %')\n",
    "            "
   ]
  },
  {
   "cell_type": "code",
   "execution_count": 55,
   "metadata": {},
   "outputs": [
    {
     "name": "stdout",
     "output_type": "stream",
     "text": [
      " la cantidad de valores normales fueron 1980 y la cantidad de no normales es de 5 para un acuracy de 99.74811083123426 %\n"
     ]
    }
   ],
   "source": [
    "#### Esta es la evaluación en la data normal, aplicando boxplot con Power\n",
    "evaluation(dataset_eval_normal)"
   ]
  },
  {
   "cell_type": "code",
   "execution_count": 77,
   "metadata": {},
   "outputs": [
    {
     "name": "stdout",
     "output_type": "stream",
     "text": [
      "el shape de la data es (2493,)\n",
      " el tipo de estructura es  <class 'pandas.core.frame.DataFrame'>\n",
      " la cantidad de valores normales fueron 0 y la cantidad de no normales es de 2493 para un acuracy de 100.0 %\n"
     ]
    }
   ],
   "source": [
    "###### Ahora lo vamos a aplicar a la data no normal\n",
    "\n",
    "dataset_no_normal = preprocessing_no_normal(dataset, 'Power', 'Power')\n",
    "dataset_eval_no_normal = processingData(dataset_no_normal, lower_limit, 'Power')\n",
    "evaluation(dataset_eval_no_normal, 'no_normal')"
   ]
  },
  {
   "cell_type": "code",
   "execution_count": 78,
   "metadata": {},
   "outputs": [
    {
     "name": "stdout",
     "output_type": "stream",
     "text": [
      "el shape de la data es (1985,)\n",
      " el tipo de estructura es  <class 'pandas.core.frame.DataFrame'>\n",
      " la cantidad de valores normales fueron 1981 y la cantidad de no normales es de 4 para un acuracy de 99.7984886649874 %\n"
     ]
    }
   ],
   "source": [
    "### Lo mismo para I1\n",
    "dataset_normal_I1 = preprocessing_normal(dataset, 'Power', 'I1')\n",
    "lower_limit_I1 = boxplotvalue(dataset_normal_I1)\n",
    "dataset_eval_normal_I1 = processingData(dataset_normal_I1, lower_limit_I1, 'I1')\n",
    "evaluation(dataset_eval_normal_I1)\n"
   ]
  },
  {
   "cell_type": "code",
   "execution_count": 79,
   "metadata": {},
   "outputs": [
    {
     "name": "stdout",
     "output_type": "stream",
     "text": [
      "el shape de la data es (2493,)\n",
      " el tipo de estructura es  <class 'pandas.core.frame.DataFrame'>\n",
      " la cantidad de valores normales fueron 1659 y la cantidad de no normales es de 834 para un acuracy de 33.45367027677497 %\n"
     ]
    }
   ],
   "source": [
    "dataset_no_normal_I1 = preprocessing_no_normal(dataset, 'Power', 'I1')\n",
    "dataset_eval_no_normal_I1 = processingData(dataset_no_normal_I1, lower_limit_I1, 'I1')\n",
    "evaluation(dataset_eval_no_normal_I1, 'no_normal')"
   ]
  },
  {
   "cell_type": "code",
   "execution_count": 64,
   "metadata": {},
   "outputs": [
    {
     "name": "stdout",
     "output_type": "stream",
     "text": [
      "el shape de la data es (1985,)\n",
      " el tipo de estructura es  <class 'pandas.core.frame.DataFrame'>\n",
      " la cantidad de valores normales fueron 1953 y la cantidad de no normales es de 32 para un acuracy de 98.38790931989925 %\n"
     ]
    }
   ],
   "source": [
    "### Lo mismo para I2\n",
    "dataset_normal_I2 = preprocessing_normal(dataset, 'Power', 'I2')\n",
    "lower_limit_I2 = boxplotvalue(dataset_normal_I2)\n",
    "dataset_eval_normal_I2 = processingData(dataset_normal_I2, lower_limit_I2, 'I2')\n",
    "evaluation(dataset_eval_normal_I2)"
   ]
  },
  {
   "cell_type": "code",
   "execution_count": 66,
   "metadata": {},
   "outputs": [
    {
     "name": "stdout",
     "output_type": "stream",
     "text": [
      "el shape de la data es (2493,)\n",
      " el tipo de estructura es  <class 'pandas.core.frame.DataFrame'>\n",
      " la cantidad de valores normales fueron 1961 y la cantidad de no normales es de 532 para un acuracy de 21.339751303650225 %\n"
     ]
    }
   ],
   "source": [
    "dataset_no_normal_I2 = preprocessing_no_normal(dataset, 'Power', 'I2')\n",
    "dataset_eval_no_normal_I2 = processingData(dataset_no_normal_I2, lower_limit_I2, 'I2')\n",
    "evaluation(dataset_eval_no_normal_I2, 'no_normal')"
   ]
  },
  {
   "cell_type": "code",
   "execution_count": 71,
   "metadata": {},
   "outputs": [
    {
     "name": "stdout",
     "output_type": "stream",
     "text": [
      "el shape de la data es (1985,)\n",
      " el tipo de estructura es  <class 'pandas.core.frame.DataFrame'>\n",
      " la cantidad de valores normales fueron 1975 y la cantidad de no normales es de 10 para un acuracy de 99.49622166246851 %\n"
     ]
    }
   ],
   "source": [
    "### Lo mismo para I3\n",
    "dataset_normal_I3 = preprocessing_normal(dataset, 'Power', 'I3')\n",
    "lower_limit_I3 = boxplotvalue(dataset_normal_I3)\n",
    "dataset_eval_normal_I3 = processingData(dataset_normal_I3, lower_limit_I3, 'I3')\n",
    "evaluation(dataset_eval_normal_I3)"
   ]
  },
  {
   "cell_type": "code",
   "execution_count": 88,
   "metadata": {},
   "outputs": [
    {
     "name": "stdout",
     "output_type": "stream",
     "text": [
      "el shape de la data es (2493,)\n",
      " el tipo de estructura es  <class 'pandas.core.frame.DataFrame'>\n",
      " la cantidad de valores normales fueron 1356 y la cantidad de no normales es de 1137 para un acuracy de 45.607701564380264 %\n"
     ]
    }
   ],
   "source": [
    "dataset_no_normal_I3 = preprocessing_no_normal(dataset, 'Power', 'I3')\n",
    "dataset_eval_no_normal_I3 = processingData(dataset_no_normal_I3, lower_limit_I3, 'I3')\n",
    "evaluation(dataset_eval_no_normal_I3, 'no_normal')"
   ]
  },
  {
   "cell_type": "code",
   "execution_count": 89,
   "metadata": {},
   "outputs": [],
   "source": [
    "### aqui plotea alito"
   ]
  },
  {
   "cell_type": "code",
   "execution_count": 90,
   "metadata": {},
   "outputs": [],
   "source": [
    "def plotting_boxplot(dataset, lower_limit, column):\n",
    "    lower_limit_plot = np.empty(dataset.shape[0])\n",
    "    lower_limit_plot.fill(lower_limit)\n",
    "    lower_limit_plot\n",
    "    series = dataset[column].to_numpy()\n",
    "    x = dataset[column].index.to_numpy()\n",
    "\n",
    "    p1, p2 = plot(x, lower_limit_plot, x, series)\n",
    "\n",
    "    legend(('Lower Limit', 'Real Data'),\n",
    "    prop = {'size': 10}, loc='upper right')\n",
    "\n",
    "    xlabel('Metricas')\n",
    "    ylabel('Numeros')\n",
    "    title('Boxplot')\n",
    "\n",
    "# Creo una figura (ventana), pero indico el tamaño (x,y) en pulgadas\n",
    "    figure(figsize=(12, 5))\n",
    "\n",
    "    show()\n"
   ]
  },
  {
   "cell_type": "code",
   "execution_count": 91,
   "metadata": {},
   "outputs": [
    {
     "data": {
      "image/png": "[encoded data removed]",
      "text/plain": [
       "<Figure size 432x288 with 1 Axes>"
      ]
     },
     "metadata": {
      "needs_background": "light"
     },
     "output_type": "display_data"
    },
    {
     "data": {
      "text/plain": [
       "<Figure size 864x360 with 0 Axes>"
      ]
     },
     "metadata": {},
     "output_type": "display_data"
    },
    {
     "name": "stdout",
     "output_type": "stream",
     "text": [
      "La evaluación de power se ve muy buena para la data normal\n"
     ]
    }
   ],
   "source": [
    "plotting_boxplot(dataset_eval_normal,lower_limit, 'Power')\n",
    "\n",
    "print(\"La evaluación de power se ve muy buena para la data normal\")"
   ]
  },
  {
   "cell_type": "code",
   "execution_count": 92,
   "metadata": {},
   "outputs": [
    {
     "data": {
      "image/png": "[encoded data removed]",
      "text/plain": [
       "<Figure size 432x288 with 1 Axes>"
      ]
     },
     "metadata": {
      "needs_background": "light"
     },
     "output_type": "display_data"
    },
    {
     "data": {
      "text/plain": [
       "<Figure size 864x360 with 0 Axes>"
      ]
     },
     "metadata": {},
     "output_type": "display_data"
    },
    {
     "name": "stdout",
     "output_type": "stream",
     "text": [
      "La evaluación de power se ve muy buena para la data no normal\n"
     ]
    }
   ],
   "source": [
    "plotting_boxplot(dataset_eval_no_normal,lower_limit, 'Power')\n",
    "print(\"La evaluación de power se ve muy buena para la data no normal\")"
   ]
  },
  {
   "cell_type": "code",
   "execution_count": 95,
   "metadata": {},
   "outputs": [
    {
     "data": {
      "image/png": "[encoded data removed]",
      "text/plain": [
       "<Figure size 432x288 with 1 Axes>"
      ]
     },
     "metadata": {
      "needs_background": "light"
     },
     "output_type": "display_data"
    },
    {
     "data": {
      "text/plain": [
       "<Figure size 864x360 with 0 Axes>"
      ]
     },
     "metadata": {},
     "output_type": "display_data"
    },
    {
     "name": "stdout",
     "output_type": "stream",
     "text": [
      "La evaluación de power se ve muy buena para la data combinada\n"
     ]
    }
   ],
   "source": [
    "plotting_boxplot(dataset,lower_limit, 'Power')\n",
    "print(\"La evaluación de power se ve muy buena para la data combinada\")"
   ]
  },
  {
   "cell_type": "code",
   "execution_count": 93,
   "metadata": {},
   "outputs": [
    {
     "data": {
      "image/png": "[encoded data removed]",
      "text/plain": [
       "<Figure size 432x288 with 1 Axes>"
      ]
     },
     "metadata": {
      "needs_background": "light"
     },
     "output_type": "display_data"
    },
    {
     "data": {
      "text/plain": [
       "<Figure size 864x360 with 0 Axes>"
      ]
     },
     "metadata": {},
     "output_type": "display_data"
    },
    {
     "name": "stdout",
     "output_type": "stream",
     "text": [
      "La evaluación de I1 se ve muy buena para la data normal\n"
     ]
    }
   ],
   "source": [
    "plotting_boxplot(dataset_eval_normal_I1,lower_limit_I1, 'I1')\n",
    "print(\"La evaluación de I1 se ve muy buena para la data normal\")"
   ]
  },
  {
   "cell_type": "code",
   "execution_count": 94,
   "metadata": {},
   "outputs": [
    {
     "data": {
      "image/png": "[encoded data removed]",
      "text/plain": [
       "<Figure size 432x288 with 1 Axes>"
      ]
     },
     "metadata": {
      "needs_background": "light"
     },
     "output_type": "display_data"
    },
    {
     "data": {
      "text/plain": [
       "<Figure size 864x360 with 0 Axes>"
      ]
     },
     "metadata": {},
     "output_type": "display_data"
    },
    {
     "name": "stdout",
     "output_type": "stream",
     "text": [
      "La evaluación de I1 para la data no normal no se ve tan bien, de hecho solo tiene el 33% de accuracy\n"
     ]
    }
   ],
   "source": [
    "plotting_boxplot(dataset_eval_no_normal_I1,lower_limit_I1, 'I1')\n",
    "print(\"La evaluación de I1 para la data no normal no se ve tan bien, de hecho solo tiene el 33% de accuracy\")"
   ]
  }
 ],
 "metadata": {
  "kernelspec": {
   "display_name": "Python 3",
   "language": "python",
   "name": "python3"
  },
  "language_info": {
   "codemirror_mode": {
    "name": "ipython",
    "version": 3
   },
   "file_extension": ".py",
   "mimetype": "text/x-python",
   "name": "python",
   "nbconvert_exporter": "python",
   "pygments_lexer": "ipython3",
   "version": "3.7.4"
  }
 },
 "nbformat": 4,
 "nbformat_minor": 2
}
