{
 "cells": [
  {
   "cell_type": "code",
   "execution_count": 1,
   "metadata": {},
   "outputs": [],
   "source": [
    "# Importar las librerias o paquetes que necesitemos\n",
    "import pandas as pd\n",
    "import numpy as np\n",
    "%matplotlib inline\n",
    "import matplotlib.pyplot as plt\n",
    "from sklearn.preprocessing import StandardScaler\n",
    "from sklearn.manifold import TSNE\n",
    "from mpl_toolkits.mplot3d import Axes3D\n",
    "import seaborn as sns\n",
    "from sklearn.cluster import KMeans\n",
    "from ipywidgets import ColorPicker, VBox, interact, interactive, fixed\n",
    "import struct\n",
    "import ipyvolume as ipv\n",
    "from pylab import *"
   ]
  },
  {
   "cell_type": "code",
   "execution_count": 2,
   "metadata": {},
   "outputs": [],
   "source": [
    "dataset = pd.read_csv('data.csv', engine = 'c')"
   ]
  },
  {
   "cell_type": "code",
   "execution_count": 3,
   "metadata": {},
   "outputs": [
    {
     "data": {
      "text/html": [
       "<div>\n",
       "<style scoped>\n",
       "    .dataframe tbody tr th:only-of-type {\n",
       "        vertical-align: middle;\n",
       "    }\n",
       "\n",
       "    .dataframe tbody tr th {\n",
       "        vertical-align: top;\n",
       "    }\n",
       "\n",
       "    .dataframe thead th {\n",
       "        text-align: right;\n",
       "    }\n",
       "</style>\n",
       "<table border=\"1\" class=\"dataframe\">\n",
       "  <thead>\n",
       "    <tr style=\"text-align: right;\">\n",
       "      <th></th>\n",
       "      <th>Power</th>\n",
       "      <th>I1</th>\n",
       "      <th>I2</th>\n",
       "      <th>I3</th>\n",
       "      <th>V1</th>\n",
       "      <th>V2</th>\n",
       "      <th>V3</th>\n",
       "      <th>V4</th>\n",
       "      <th>V5</th>\n",
       "      <th>V6</th>\n",
       "      <th>...</th>\n",
       "      <th>V39</th>\n",
       "      <th>V40</th>\n",
       "      <th>V41</th>\n",
       "      <th>V42</th>\n",
       "      <th>V43</th>\n",
       "      <th>V44</th>\n",
       "      <th>V45</th>\n",
       "      <th>V46</th>\n",
       "      <th>V47</th>\n",
       "      <th>V48</th>\n",
       "    </tr>\n",
       "  </thead>\n",
       "  <tbody>\n",
       "    <tr>\n",
       "      <td>0</td>\n",
       "      <td>9751.855054</td>\n",
       "      <td>7.82412</td>\n",
       "      <td>7.711217</td>\n",
       "      <td>7.659327</td>\n",
       "      <td>26.98123</td>\n",
       "      <td>26.98123</td>\n",
       "      <td>26.973406</td>\n",
       "      <td>26.98123</td>\n",
       "      <td>26.98123</td>\n",
       "      <td>26.98123</td>\n",
       "      <td>...</td>\n",
       "      <td>25.923836</td>\n",
       "      <td>25.923836</td>\n",
       "      <td>25.916177</td>\n",
       "      <td>25.923836</td>\n",
       "      <td>25.923836</td>\n",
       "      <td>25.923836</td>\n",
       "      <td>25.923836</td>\n",
       "      <td>25.916177</td>\n",
       "      <td>25.923836</td>\n",
       "      <td>25.923836</td>\n",
       "    </tr>\n",
       "  </tbody>\n",
       "</table>\n",
       "<p>1 rows × 52 columns</p>\n",
       "</div>"
      ],
      "text/plain": [
       "         Power       I1        I2        I3        V1        V2         V3  \\\n",
       "0  9751.855054  7.82412  7.711217  7.659327  26.98123  26.98123  26.973406   \n",
       "\n",
       "         V4        V5        V6  ...        V39        V40        V41  \\\n",
       "0  26.98123  26.98123  26.98123  ...  25.923836  25.923836  25.916177   \n",
       "\n",
       "         V42        V43        V44        V45        V46        V47        V48  \n",
       "0  25.923836  25.923836  25.923836  25.923836  25.916177  25.923836  25.923836  \n",
       "\n",
       "[1 rows x 52 columns]"
      ]
     },
     "execution_count": 3,
     "metadata": {},
     "output_type": "execute_result"
    }
   ],
   "source": [
    "dataset.head(1)"
   ]
  },
  {
   "cell_type": "code",
   "execution_count": 4,
   "metadata": {},
   "outputs": [
    {
     "name": "stdout",
     "output_type": "stream",
     "text": [
      "el shape de la data es (1985,)\n",
      " el tipo de estructura es  <class 'pandas.core.frame.DataFrame'>\n"
     ]
    }
   ],
   "source": [
    "temporal_normal = dataset[dataset['Power'] > 9200]\n",
    "\n",
    "temporal_normal = temporal_normal['Power']\n",
    "shape = temporal_normal.shape\n",
    "temporal_normal = pd.DataFrame(temporal_normal, columns= ['Power'])\n",
    "print(f'el shape de la data es {shape}')\n",
    "print(f' el tipo de estructura es  {type(temporal_normal)}')"
   ]
  },
  {
   "cell_type": "code",
   "execution_count": 63,
   "metadata": {},
   "outputs": [],
   "source": [
    "def boxplotvalue(dataset):\n",
    "    \n",
    "    first_percentile = np.percentile(dataset, 25)\n",
    "    third_percentile = np.percentile(dataset, 75)\n",
    "    IRQ = third_percentile - first_percentile\n",
    "    lower_limit = first_percentile - (1.5*IRQ)\n",
    "    return lower_limit\n",
    "\n",
    "def processingData(dataset, lower_limit, column):\n",
    "    \n",
    "    dataset['outlier'] = dataset[column].apply(lambda x : 1 if x < lower_limit else 0)\n",
    "    \n",
    "    return dataset\n",
    "\n",
    "def preprocessing_normal(dataset, attr, attr2):\n",
    "    temporal = dataset[dataset[attr] > 9200]\n",
    "    temporal = temporal[attr2]\n",
    "    shape = temporal.shape\n",
    "    temporal = pd.DataFrame(temporal, columns= [attr2])\n",
    "    print(f'el shape de la data es {shape}')\n",
    "    print(f' el tipo de estructura es  {type(temporal)}')\n",
    "    return temporal\n",
    "\n",
    "def preprocessing_no_normal(dataset, attr, attr2):\n",
    "    temporal = dataset[dataset[attr] < 9200]\n",
    "    temporal = temporal[attr2]\n",
    "    shape = temporal.shape\n",
    "    temporal = pd.DataFrame(temporal, columns= [attr2])\n",
    "    print(f'el shape de la data es {shape}')\n",
    "    print(f' el tipo de estructura es  {type(temporal)}')\n",
    "    return temporal\n",
    "    "
   ]
  },
  {
   "cell_type": "code",
   "execution_count": 6,
   "metadata": {},
   "outputs": [
    {
     "name": "stdout",
     "output_type": "stream",
     "text": [
      " el limite inferior es de  9319.726327\n"
     ]
    }
   ],
   "source": [
    "lower_limit =  boxplotvalue(temporal_normal)\n",
    "print(f' el limite inferior es de  {lower_limit}')"
   ]
  },
  {
   "cell_type": "code",
   "execution_count": 7,
   "metadata": {},
   "outputs": [
    {
     "data": {
      "text/plain": [
       "(1985, 2)"
      ]
     },
     "execution_count": 7,
     "metadata": {},
     "output_type": "execute_result"
    }
   ],
   "source": [
    "dataset_eval_normal = processingData(temporal_normal, lower_limit,  'Power')\n",
    "dataset_eval_normal.shape"
   ]
  },
  {
   "cell_type": "code",
   "execution_count": 8,
   "metadata": {},
   "outputs": [],
   "source": [
    "def evaluation(dataset, eval= 'normal'):\n",
    "    if eval == 'normal':\n",
    "        try:\n",
    "            normal = dataset.outlier.value_counts()[0]\n",
    "            no_normal =  dataset.outlier.value_counts()[1]\n",
    "        except:\n",
    "            no_normal =  dataset.outlier.value_counts()[1]\n",
    "            normal = 0\n",
    "    \n",
    "        return print(f' la cantidad de valores normales fueron {normal} y la cantidad de no normales es de {no_normal} para un acuracy de {(1-(no_normal/(normal+no_normal)))*100} %')\n",
    "    else:\n",
    "        try:\n",
    "            normal = dataset.outlier.value_counts()[0]\n",
    "            no_normal =  dataset.outlier.value_counts()[1]\n",
    "        except:\n",
    "            no_normal =  dataset.outlier.value_counts()[1]\n",
    "            normal = 0\n",
    "        return print(f' la cantidad de valores normales fueron {normal} y la cantidad de no normales es de {no_normal} para un acuracy de {(1-(normal/(normal+no_normal)))*100} %')\n",
    "            "
   ]
  },
  {
   "cell_type": "code",
   "execution_count": 9,
   "metadata": {},
   "outputs": [
    {
     "name": "stdout",
     "output_type": "stream",
     "text": [
      " la cantidad de valores normales fueron 1980 y la cantidad de no normales es de 5 para un acuracy de 99.74811083123426 %\n"
     ]
    }
   ],
   "source": [
    "#### Esta es la evaluación en la data normal, aplicando boxplot con Power\n",
    "evaluation(dataset_eval_normal)"
   ]
  },
  {
   "cell_type": "code",
   "execution_count": 10,
   "metadata": {},
   "outputs": [
    {
     "name": "stdout",
     "output_type": "stream",
     "text": [
      "el shape de la data es (2493,)\n",
      " el tipo de estructura es  <class 'pandas.core.frame.DataFrame'>\n",
      " la cantidad de valores normales fueron 0 y la cantidad de no normales es de 2493 para un acuracy de 100.0 %\n"
     ]
    }
   ],
   "source": [
    "###### Ahora lo vamos a aplicar a la data no normal\n",
    "\n",
    "dataset_no_normal = preprocessing_no_normal(dataset, 'Power', 'Power')\n",
    "dataset_eval_no_normal = processingData(dataset_no_normal, lower_limit, 'Power')\n",
    "evaluation(dataset_eval_no_normal, 'no_normal')"
   ]
  },
  {
   "cell_type": "code",
   "execution_count": 65,
   "metadata": {},
   "outputs": [
    {
     "name": "stdout",
     "output_type": "stream",
     "text": [
      "el shape de la data es (1985,)\n",
      " el tipo de estructura es  <class 'pandas.core.frame.DataFrame'>\n",
      " la cantidad de valores normales fueron 1981 y la cantidad de no normales es de 4 para un acuracy de 99.7984886649874 %\n"
     ]
    },
    {
     "data": {
      "text/html": [
       "<div>\n",
       "<style scoped>\n",
       "    .dataframe tbody tr th:only-of-type {\n",
       "        vertical-align: middle;\n",
       "    }\n",
       "\n",
       "    .dataframe tbody tr th {\n",
       "        vertical-align: top;\n",
       "    }\n",
       "\n",
       "    .dataframe thead th {\n",
       "        text-align: right;\n",
       "    }\n",
       "</style>\n",
       "<table border=\"1\" class=\"dataframe\">\n",
       "  <thead>\n",
       "    <tr style=\"text-align: right;\">\n",
       "      <th></th>\n",
       "      <th>I1</th>\n",
       "      <th>outlier</th>\n",
       "    </tr>\n",
       "  </thead>\n",
       "  <tbody>\n",
       "    <tr>\n",
       "      <td>0</td>\n",
       "      <td>7.824120</td>\n",
       "      <td>0</td>\n",
       "    </tr>\n",
       "    <tr>\n",
       "      <td>1</td>\n",
       "      <td>7.493863</td>\n",
       "      <td>0</td>\n",
       "    </tr>\n",
       "    <tr>\n",
       "      <td>2</td>\n",
       "      <td>7.504908</td>\n",
       "      <td>0</td>\n",
       "    </tr>\n",
       "    <tr>\n",
       "      <td>3</td>\n",
       "      <td>7.505353</td>\n",
       "      <td>0</td>\n",
       "    </tr>\n",
       "    <tr>\n",
       "      <td>4</td>\n",
       "      <td>7.516942</td>\n",
       "      <td>0</td>\n",
       "    </tr>\n",
       "    <tr>\n",
       "      <td>...</td>\n",
       "      <td>...</td>\n",
       "      <td>...</td>\n",
       "    </tr>\n",
       "    <tr>\n",
       "      <td>4271</td>\n",
       "      <td>7.506123</td>\n",
       "      <td>0</td>\n",
       "    </tr>\n",
       "    <tr>\n",
       "      <td>4272</td>\n",
       "      <td>7.527603</td>\n",
       "      <td>0</td>\n",
       "    </tr>\n",
       "    <tr>\n",
       "      <td>4273</td>\n",
       "      <td>7.524862</td>\n",
       "      <td>0</td>\n",
       "    </tr>\n",
       "    <tr>\n",
       "      <td>4274</td>\n",
       "      <td>7.515305</td>\n",
       "      <td>0</td>\n",
       "    </tr>\n",
       "    <tr>\n",
       "      <td>4275</td>\n",
       "      <td>7.515932</td>\n",
       "      <td>0</td>\n",
       "    </tr>\n",
       "  </tbody>\n",
       "</table>\n",
       "<p>1985 rows × 2 columns</p>\n",
       "</div>"
      ],
      "text/plain": [
       "            I1  outlier\n",
       "0     7.824120        0\n",
       "1     7.493863        0\n",
       "2     7.504908        0\n",
       "3     7.505353        0\n",
       "4     7.516942        0\n",
       "...        ...      ...\n",
       "4271  7.506123        0\n",
       "4272  7.527603        0\n",
       "4273  7.524862        0\n",
       "4274  7.515305        0\n",
       "4275  7.515932        0\n",
       "\n",
       "[1985 rows x 2 columns]"
      ]
     },
     "execution_count": 65,
     "metadata": {},
     "output_type": "execute_result"
    }
   ],
   "source": [
    "### Lo mismo para I1\n",
    "dataset_normal_I1 = preprocessing_normal(dataset, 'Power', 'I1')\n",
    "lower_limit_I1 = boxplotvalue(dataset_normal_I1)\n",
    "dataset_eval_normal_I1 = processingData(dataset_normal_I1, lower_limit_I1, 'I1')\n",
    "evaluation(dataset_eval_normal_I1)"
   ]
  },
  {
   "cell_type": "code",
   "execution_count": 12,
   "metadata": {},
   "outputs": [
    {
     "name": "stdout",
     "output_type": "stream",
     "text": [
      "el shape de la data es (2493,)\n",
      " el tipo de estructura es  <class 'pandas.core.frame.DataFrame'>\n",
      " la cantidad de valores normales fueron 1659 y la cantidad de no normales es de 834 para un acuracy de 33.45367027677497 %\n"
     ]
    }
   ],
   "source": [
    "dataset_no_normal_I1 = preprocessing_no_normal(dataset, 'Power', 'I1')\n",
    "dataset_eval_no_normal_I1 = processingData(dataset_no_normal_I1, lower_limit_I1, 'I1')\n",
    "evaluation(dataset_eval_no_normal_I1, 'no_normal')"
   ]
  },
  {
   "cell_type": "code",
   "execution_count": 13,
   "metadata": {},
   "outputs": [
    {
     "name": "stdout",
     "output_type": "stream",
     "text": [
      "el shape de la data es (1985,)\n",
      " el tipo de estructura es  <class 'pandas.core.frame.DataFrame'>\n",
      " la cantidad de valores normales fueron 1953 y la cantidad de no normales es de 32 para un acuracy de 98.38790931989925 %\n"
     ]
    }
   ],
   "source": [
    "### Lo mismo para I2\n",
    "dataset_normal_I2 = preprocessing_normal(dataset, 'Power', 'I2')\n",
    "lower_limit_I2 = boxplotvalue(dataset_normal_I2)\n",
    "dataset_eval_normal_I2 = processingData(dataset_normal_I2, lower_limit_I2, 'I2')\n",
    "evaluation(dataset_eval_normal_I2)"
   ]
  },
  {
   "cell_type": "code",
   "execution_count": 14,
   "metadata": {},
   "outputs": [
    {
     "name": "stdout",
     "output_type": "stream",
     "text": [
      "el shape de la data es (2493,)\n",
      " el tipo de estructura es  <class 'pandas.core.frame.DataFrame'>\n",
      " la cantidad de valores normales fueron 1961 y la cantidad de no normales es de 532 para un acuracy de 21.339751303650225 %\n"
     ]
    }
   ],
   "source": [
    "dataset_no_normal_I2 = preprocessing_no_normal(dataset, 'Power', 'I2')\n",
    "dataset_eval_no_normal_I2 = processingData(dataset_no_normal_I2, lower_limit_I2, 'I2')\n",
    "evaluation(dataset_eval_no_normal_I2, 'no_normal')"
   ]
  },
  {
   "cell_type": "code",
   "execution_count": 15,
   "metadata": {},
   "outputs": [
    {
     "name": "stdout",
     "output_type": "stream",
     "text": [
      "el shape de la data es (1985,)\n",
      " el tipo de estructura es  <class 'pandas.core.frame.DataFrame'>\n",
      " la cantidad de valores normales fueron 1975 y la cantidad de no normales es de 10 para un acuracy de 99.49622166246851 %\n"
     ]
    }
   ],
   "source": [
    "### Lo mismo para I3\n",
    "dataset_normal_I3 = preprocessing_normal(dataset, 'Power', 'I3')\n",
    "lower_limit_I3 = boxplotvalue(dataset_normal_I3)\n",
    "dataset_eval_normal_I3 = processingData(dataset_normal_I3, lower_limit_I3, 'I3')\n",
    "evaluation(dataset_eval_normal_I3)"
   ]
  },
  {
   "cell_type": "code",
   "execution_count": 16,
   "metadata": {},
   "outputs": [
    {
     "name": "stdout",
     "output_type": "stream",
     "text": [
      "el shape de la data es (2493,)\n",
      " el tipo de estructura es  <class 'pandas.core.frame.DataFrame'>\n",
      " la cantidad de valores normales fueron 1356 y la cantidad de no normales es de 1137 para un acuracy de 45.607701564380264 %\n"
     ]
    }
   ],
   "source": [
    "dataset_no_normal_I3 = preprocessing_no_normal(dataset, 'Power', 'I3')\n",
    "dataset_eval_no_normal_I3 = processingData(dataset_no_normal_I3, lower_limit_I3, 'I3')\n",
    "evaluation(dataset_eval_no_normal_I3, 'no_normal')"
   ]
  },
  {
   "cell_type": "code",
   "execution_count": 17,
   "metadata": {},
   "outputs": [],
   "source": [
    "### aqui plotea alito"
   ]
  },
  {
   "cell_type": "code",
   "execution_count": 18,
   "metadata": {},
   "outputs": [],
   "source": [
    "def plotting_boxplot(dataset, lower_limit, column):\n",
    "    lower_limit_plot = np.empty(dataset.shape[0])\n",
    "    lower_limit_plot.fill(lower_limit)\n",
    "    lower_limit_plot\n",
    "    series = dataset[column].to_numpy()\n",
    "    x = dataset[column].index.to_numpy()\n",
    "\n",
    "    p1, p2 = plot(x, lower_limit_plot, x, series)\n",
    "\n",
    "    legend(('Lower Limit', 'Real Data'),\n",
    "    prop = {'size': 10}, loc='upper right')\n",
    "\n",
    "    xlabel('Metricas')\n",
    "    ylabel('Numeros')\n",
    "    title('Boxplot')\n",
    "\n",
    "# Creo una figura (ventana), pero indico el tamaño (x,y) en pulgadas\n",
    "    figure(figsize=(12, 5))\n",
    "\n",
    "    show()\n"
   ]
  },
  {
   "cell_type": "code",
   "execution_count": 19,
   "metadata": {},
   "outputs": [
    {
     "data": {
      "image/png": "[encoded data removed]",
      "text/plain": [
       "<Figure size 432x288 with 1 Axes>"
      ]
     },
     "metadata": {
      "needs_background": "light"
     },
     "output_type": "display_data"
    },
    {
     "data": {
      "text/plain": [
       "<Figure size 864x360 with 0 Axes>"
      ]
     },
     "metadata": {},
     "output_type": "display_data"
    },
    {
     "name": "stdout",
     "output_type": "stream",
     "text": [
      "La evaluación de power se ve muy buena para la data normal\n"
     ]
    }
   ],
   "source": [
    "plotting_boxplot(dataset_eval_normal,lower_limit, 'Power')\n",
    "\n",
    "print(\"La evaluación de power se ve muy buena para la data normal\")"
   ]
  },
  {
   "cell_type": "code",
   "execution_count": 20,
   "metadata": {},
   "outputs": [
    {
     "data": {
      "image/png": "[encoded data removed]",
      "text/plain": [
       "<Figure size 432x288 with 1 Axes>"
      ]
     },
     "metadata": {
      "needs_background": "light"
     },
     "output_type": "display_data"
    },
    {
     "data": {
      "text/plain": [
       "<Figure size 864x360 with 0 Axes>"
      ]
     },
     "metadata": {},
     "output_type": "display_data"
    },
    {
     "name": "stdout",
     "output_type": "stream",
     "text": [
      "La evaluación de power se ve muy buena para la data no normal\n"
     ]
    }
   ],
   "source": [
    "plotting_boxplot(dataset_eval_no_normal,lower_limit, 'Power')\n",
    "print(\"La evaluación de power se ve muy buena para la data no normal\")"
   ]
  },
  {
   "cell_type": "code",
   "execution_count": 21,
   "metadata": {},
   "outputs": [
    {
     "data": {
      "image/png": "[encoded data removed]",
      "text/plain": [
       "<Figure size 432x288 with 1 Axes>"
      ]
     },
     "metadata": {
      "needs_background": "light"
     },
     "output_type": "display_data"
    },
    {
     "data": {
      "text/plain": [
       "<Figure size 864x360 with 0 Axes>"
      ]
     },
     "metadata": {},
     "output_type": "display_data"
    },
    {
     "name": "stdout",
     "output_type": "stream",
     "text": [
      "La evaluación de power se ve muy buena para la data combinada\n"
     ]
    }
   ],
   "source": [
    "plotting_boxplot(dataset,lower_limit, 'Power')\n",
    "print(\"La evaluación de power se ve muy buena para la data combinada\")"
   ]
  },
  {
   "cell_type": "code",
   "execution_count": 22,
   "metadata": {},
   "outputs": [
    {
     "data": {
      "image/png": "[encoded data removed]",
      "text/plain": [
       "<Figure size 432x288 with 1 Axes>"
      ]
     },
     "metadata": {
      "needs_background": "light"
     },
     "output_type": "display_data"
    },
    {
     "data": {
      "text/plain": [
       "<Figure size 864x360 with 0 Axes>"
      ]
     },
     "metadata": {},
     "output_type": "display_data"
    },
    {
     "name": "stdout",
     "output_type": "stream",
     "text": [
      "La evaluación de I1 se ve muy buena para la data normal\n"
     ]
    }
   ],
   "source": [
    "plotting_boxplot(dataset_eval_normal_I1,lower_limit_I1, 'I1')\n",
    "print(\"La evaluación de I1 se ve muy buena para la data normal\")"
   ]
  },
  {
   "cell_type": "code",
   "execution_count": 23,
   "metadata": {},
   "outputs": [
    {
     "data": {
      "image/png": "[encoded data removed]",
      "text/plain": [
       "<Figure size 432x288 with 1 Axes>"
      ]
     },
     "metadata": {
      "needs_background": "light"
     },
     "output_type": "display_data"
    },
    {
     "data": {
      "text/plain": [
       "<Figure size 864x360 with 0 Axes>"
      ]
     },
     "metadata": {},
     "output_type": "display_data"
    },
    {
     "name": "stdout",
     "output_type": "stream",
     "text": [
      "La evaluación de I1 para la data no normal no se ve tan bien, de hecho solo tiene el 33% de accuracy\n"
     ]
    }
   ],
   "source": [
    "plotting_boxplot(dataset_eval_no_normal_I1,lower_limit_I1, 'I1')\n",
    "print(\"La evaluación de I1 para la data no normal no se ve tan bien, de hecho solo tiene el 33% de accuracy\")"
   ]
  },
  {
   "cell_type": "markdown",
   "metadata": {},
   "source": [
    "## Corrientes "
   ]
  },
  {
   "cell_type": "code",
   "execution_count": 48,
   "metadata": {},
   "outputs": [],
   "source": [
    "### vamos a juntar corrientes\n",
    "### Si la corriente 1 o corriente 2 o corriente 3 es no normal, hay que clasificar como fallo\n",
    "dataset_eval_normal_I1.columns = ['I1','outlier_I1']\n",
    "\n",
    "dataset_eval_normal_I2.columns = ['I2','outlier_I2']\n",
    "\n",
    "dataset_eval_normal_I3.columns = ['I3','outlier_I3']\n",
    "\n",
    "dataset_concat = pd.concat([dataset_eval_normal_I1,dataset_eval_normal_I2,dataset_eval_normal_I3],  axis=1)\n",
    "\n",
    "dataset_concat['outlier'] = [1 if x > 0 else 1 if y>0 else 1 if z > 0 else 0 for x,y,z in zip(dataset_concat['outlier_I1'],dataset_concat['outlier_I2'],dataset_concat['outlier_I3'])]\n"
   ]
  },
  {
   "cell_type": "code",
   "execution_count": 51,
   "metadata": {},
   "outputs": [
    {
     "name": "stdout",
     "output_type": "stream",
     "text": [
      "podemos observar que la combinacion de corrientes baja un poco el acccuracy en 1 % en promedio, \n",
      "esto para los casos que son normales, ahora vamos a evaluar los casos que no son normales para determinar el accuracy\n",
      " la cantidad de valores normales fueron 1942 y la cantidad de no normales es de 43 para un acuracy de 97.8337531486146 %\n"
     ]
    }
   ],
   "source": [
    "print('''podemos observar que la combinacion de corrientes baja un poco el acccuracy en 1 % en promedio, \n",
    "esto para los casos que son normales, ahora vamos a evaluar los casos que no son normales para determinar el accuracy''')\n",
    "evaluation(dataset_concat)"
   ]
  },
  {
   "cell_type": "code",
   "execution_count": 52,
   "metadata": {},
   "outputs": [],
   "source": [
    "dataset_eval_no_normal_I1.columns = ['I1','outlier_I1']\n",
    "\n",
    "dataset_eval_no_normal_I2.columns = ['I2','outlier_I2']\n",
    "\n",
    "dataset_eval_no_normal_I3.columns = ['I3','outlier_I3']\n",
    "\n",
    "dataset_no_normal_concat = pd.concat([dataset_eval_no_normal_I1,dataset_eval_no_normal_I2,dataset_eval_no_normal_I3],  axis=1)\n",
    "\n",
    "dataset_no_normal_concat['outlier'] = [1 if x > 0 else 1 if y>0 else 1 if z > 0 else 0 for x,y,z in zip(dataset_no_normal_concat['outlier_I1'],dataset_no_normal_concat['outlier_I2'],dataset_no_normal_concat['outlier_I3'])]\n"
   ]
  },
  {
   "cell_type": "code",
   "execution_count": 55,
   "metadata": {},
   "outputs": [
    {
     "name": "stdout",
     "output_type": "stream",
     "text": [
      " la cantidad de valores normales fueron 0 y la cantidad de no normales es de 2493 para un acuracy de 100.0 %\n"
     ]
    }
   ],
   "source": [
    "evaluation(dataset_no_normal_concat, 'no_normal')"
   ]
  },
  {
   "cell_type": "code",
   "execution_count": 73,
   "metadata": {},
   "outputs": [
    {
     "name": "stdout",
     "output_type": "stream",
     "text": [
      " la cantidad de valores normales fueron 1980 y la cantidad de no normales es de 5 para un acuracy de 99.74811083123426 %\n"
     ]
    }
   ],
   "source": [
    "# Ahora vamos a sacar los promedios de las 3 corrientes, calcular el limite para la evaluacion\n",
    "\n",
    "dataset_concat['I_ave'] = (dataset_concat['I1']+ dataset_concat['I2']+ dataset_concat['I3'])/3\n",
    "\n",
    "lower_limit_I1_ave = boxplotvalue(dataset_concat['I_ave'])\n",
    "\n",
    "dataset_eval_normal_I_ave = processingData(pd.DataFrame(dataset_concat['I_ave'], columns = ['I_ave']), lower_limit_I1_ave, 'I_ave')\n",
    "evaluation(dataset_eval_normal_I_ave)\n"
   ]
  },
  {
   "cell_type": "code",
   "execution_count": 77,
   "metadata": {},
   "outputs": [
    {
     "name": "stdout",
     "output_type": "stream",
     "text": [
      " la cantidad de valores normales fueron 0 y la cantidad de no normales es de 2493 para un acuracy de 100.0 %\n"
     ]
    }
   ],
   "source": [
    "### Ahora vamos a evaluar los no normales\n",
    "\n",
    "dataset_no_normal_concat['I_ave'] = (dataset_no_normal_concat['I1']+ dataset_no_normal_concat['I2']+ dataset_no_normal_concat['I3'])/3\n",
    "\n",
    "dataset_eval_no_normal_I_ave = processingData(pd.DataFrame(dataset_no_normal_concat['I_ave'], columns = ['I_ave']), lower_limit_I1_ave, 'I_ave')\n",
    "evaluation(dataset_eval_no_normal_I_ave, 'no_normal')"
   ]
  },
  {
   "cell_type": "markdown",
   "metadata": {},
   "source": [
    "# Clustering"
   ]
  },
  {
   "cell_type": "code",
   "execution_count": 84,
   "metadata": {},
   "outputs": [
    {
     "data": {
      "text/html": [
       "<div>\n",
       "<style scoped>\n",
       "    .dataframe tbody tr th:only-of-type {\n",
       "        vertical-align: middle;\n",
       "    }\n",
       "\n",
       "    .dataframe tbody tr th {\n",
       "        vertical-align: top;\n",
       "    }\n",
       "\n",
       "    .dataframe thead th {\n",
       "        text-align: right;\n",
       "    }\n",
       "</style>\n",
       "<table border=\"1\" class=\"dataframe\">\n",
       "  <thead>\n",
       "    <tr style=\"text-align: right;\">\n",
       "      <th></th>\n",
       "      <th>V1</th>\n",
       "      <th>V2</th>\n",
       "      <th>V3</th>\n",
       "      <th>V4</th>\n",
       "      <th>V5</th>\n",
       "      <th>V6</th>\n",
       "      <th>V7</th>\n",
       "      <th>V8</th>\n",
       "      <th>V9</th>\n",
       "      <th>V10</th>\n",
       "      <th>...</th>\n",
       "      <th>V39</th>\n",
       "      <th>V40</th>\n",
       "      <th>V41</th>\n",
       "      <th>V42</th>\n",
       "      <th>V43</th>\n",
       "      <th>V44</th>\n",
       "      <th>V45</th>\n",
       "      <th>V46</th>\n",
       "      <th>V47</th>\n",
       "      <th>V48</th>\n",
       "    </tr>\n",
       "  </thead>\n",
       "  <tbody>\n",
       "    <tr>\n",
       "      <td>0</td>\n",
       "      <td>26.981230</td>\n",
       "      <td>26.981230</td>\n",
       "      <td>26.973406</td>\n",
       "      <td>26.981230</td>\n",
       "      <td>26.981230</td>\n",
       "      <td>26.981230</td>\n",
       "      <td>26.981230</td>\n",
       "      <td>26.981230</td>\n",
       "      <td>25.676113</td>\n",
       "      <td>25.676113</td>\n",
       "      <td>...</td>\n",
       "      <td>25.923836</td>\n",
       "      <td>25.923836</td>\n",
       "      <td>25.916177</td>\n",
       "      <td>25.923836</td>\n",
       "      <td>25.923836</td>\n",
       "      <td>25.923836</td>\n",
       "      <td>25.923836</td>\n",
       "      <td>25.916177</td>\n",
       "      <td>25.923836</td>\n",
       "      <td>25.923836</td>\n",
       "    </tr>\n",
       "    <tr>\n",
       "      <td>1</td>\n",
       "      <td>26.595084</td>\n",
       "      <td>26.590496</td>\n",
       "      <td>26.581026</td>\n",
       "      <td>26.581640</td>\n",
       "      <td>26.578936</td>\n",
       "      <td>26.585754</td>\n",
       "      <td>26.587160</td>\n",
       "      <td>26.583894</td>\n",
       "      <td>26.062479</td>\n",
       "      <td>26.069642</td>\n",
       "      <td>...</td>\n",
       "      <td>26.130718</td>\n",
       "      <td>26.121655</td>\n",
       "      <td>26.121467</td>\n",
       "      <td>26.123370</td>\n",
       "      <td>26.125228</td>\n",
       "      <td>26.124651</td>\n",
       "      <td>26.115087</td>\n",
       "      <td>26.125892</td>\n",
       "      <td>26.122222</td>\n",
       "      <td>26.119418</td>\n",
       "    </tr>\n",
       "    <tr>\n",
       "      <td>2</td>\n",
       "      <td>26.558807</td>\n",
       "      <td>26.554412</td>\n",
       "      <td>26.545014</td>\n",
       "      <td>26.545930</td>\n",
       "      <td>26.543340</td>\n",
       "      <td>26.549870</td>\n",
       "      <td>26.551216</td>\n",
       "      <td>26.548088</td>\n",
       "      <td>26.091001</td>\n",
       "      <td>26.097861</td>\n",
       "      <td>...</td>\n",
       "      <td>26.101107</td>\n",
       "      <td>26.092450</td>\n",
       "      <td>26.091930</td>\n",
       "      <td>26.094089</td>\n",
       "      <td>26.095863</td>\n",
       "      <td>26.095312</td>\n",
       "      <td>26.086177</td>\n",
       "      <td>26.096156</td>\n",
       "      <td>26.092992</td>\n",
       "      <td>26.090314</td>\n",
       "    </tr>\n",
       "    <tr>\n",
       "      <td>3</td>\n",
       "      <td>26.517370</td>\n",
       "      <td>26.512969</td>\n",
       "      <td>26.503568</td>\n",
       "      <td>26.504474</td>\n",
       "      <td>26.501881</td>\n",
       "      <td>26.508420</td>\n",
       "      <td>26.509769</td>\n",
       "      <td>26.506636</td>\n",
       "      <td>26.129142</td>\n",
       "      <td>26.136012</td>\n",
       "      <td>...</td>\n",
       "      <td>26.082333</td>\n",
       "      <td>26.073660</td>\n",
       "      <td>26.073154</td>\n",
       "      <td>26.075302</td>\n",
       "      <td>26.077079</td>\n",
       "      <td>26.076527</td>\n",
       "      <td>26.067376</td>\n",
       "      <td>26.077387</td>\n",
       "      <td>26.074203</td>\n",
       "      <td>26.071521</td>\n",
       "    </tr>\n",
       "    <tr>\n",
       "      <td>4</td>\n",
       "      <td>26.582297</td>\n",
       "      <td>26.577895</td>\n",
       "      <td>26.568483</td>\n",
       "      <td>26.569400</td>\n",
       "      <td>26.566807</td>\n",
       "      <td>26.573346</td>\n",
       "      <td>26.574695</td>\n",
       "      <td>26.571562</td>\n",
       "      <td>26.075063</td>\n",
       "      <td>26.081934</td>\n",
       "      <td>...</td>\n",
       "      <td>26.121293</td>\n",
       "      <td>26.112622</td>\n",
       "      <td>26.112098</td>\n",
       "      <td>26.114264</td>\n",
       "      <td>26.116041</td>\n",
       "      <td>26.115489</td>\n",
       "      <td>26.106339</td>\n",
       "      <td>26.116331</td>\n",
       "      <td>26.113165</td>\n",
       "      <td>26.110483</td>\n",
       "    </tr>\n",
       "    <tr>\n",
       "      <td>...</td>\n",
       "      <td>...</td>\n",
       "      <td>...</td>\n",
       "      <td>...</td>\n",
       "      <td>...</td>\n",
       "      <td>...</td>\n",
       "      <td>...</td>\n",
       "      <td>...</td>\n",
       "      <td>...</td>\n",
       "      <td>...</td>\n",
       "      <td>...</td>\n",
       "      <td>...</td>\n",
       "      <td>...</td>\n",
       "      <td>...</td>\n",
       "      <td>...</td>\n",
       "      <td>...</td>\n",
       "      <td>...</td>\n",
       "      <td>...</td>\n",
       "      <td>...</td>\n",
       "      <td>...</td>\n",
       "      <td>...</td>\n",
       "      <td>...</td>\n",
       "    </tr>\n",
       "    <tr>\n",
       "      <td>4473</td>\n",
       "      <td>26.608449</td>\n",
       "      <td>26.604055</td>\n",
       "      <td>26.594667</td>\n",
       "      <td>26.595574</td>\n",
       "      <td>26.592984</td>\n",
       "      <td>26.599513</td>\n",
       "      <td>26.600860</td>\n",
       "      <td>26.597732</td>\n",
       "      <td>26.049304</td>\n",
       "      <td>26.056164</td>\n",
       "      <td>...</td>\n",
       "      <td>28.082237</td>\n",
       "      <td>28.074487</td>\n",
       "      <td>28.074026</td>\n",
       "      <td>28.075954</td>\n",
       "      <td>28.077542</td>\n",
       "      <td>28.077049</td>\n",
       "      <td>28.068871</td>\n",
       "      <td>28.077809</td>\n",
       "      <td>28.074972</td>\n",
       "      <td>28.072575</td>\n",
       "    </tr>\n",
       "    <tr>\n",
       "      <td>4474</td>\n",
       "      <td>26.624369</td>\n",
       "      <td>26.619973</td>\n",
       "      <td>26.610559</td>\n",
       "      <td>26.611489</td>\n",
       "      <td>26.608898</td>\n",
       "      <td>26.615430</td>\n",
       "      <td>26.616777</td>\n",
       "      <td>26.613648</td>\n",
       "      <td>26.039757</td>\n",
       "      <td>26.046619</td>\n",
       "      <td>...</td>\n",
       "      <td>28.077814</td>\n",
       "      <td>28.070055</td>\n",
       "      <td>28.069594</td>\n",
       "      <td>28.071524</td>\n",
       "      <td>28.073114</td>\n",
       "      <td>28.072620</td>\n",
       "      <td>28.064433</td>\n",
       "      <td>28.073381</td>\n",
       "      <td>28.070541</td>\n",
       "      <td>28.068141</td>\n",
       "    </tr>\n",
       "    <tr>\n",
       "      <td>4475</td>\n",
       "      <td>26.648529</td>\n",
       "      <td>26.644119</td>\n",
       "      <td>26.634718</td>\n",
       "      <td>26.635606</td>\n",
       "      <td>26.633007</td>\n",
       "      <td>26.639560</td>\n",
       "      <td>26.640912</td>\n",
       "      <td>26.637772</td>\n",
       "      <td>26.016033</td>\n",
       "      <td>26.022918</td>\n",
       "      <td>...</td>\n",
       "      <td>28.093464</td>\n",
       "      <td>28.085698</td>\n",
       "      <td>28.085244</td>\n",
       "      <td>28.087168</td>\n",
       "      <td>28.088760</td>\n",
       "      <td>28.088266</td>\n",
       "      <td>28.080070</td>\n",
       "      <td>28.089035</td>\n",
       "      <td>28.086184</td>\n",
       "      <td>28.083782</td>\n",
       "    </tr>\n",
       "    <tr>\n",
       "      <td>4476</td>\n",
       "      <td>26.675953</td>\n",
       "      <td>26.671554</td>\n",
       "      <td>26.662162</td>\n",
       "      <td>26.663063</td>\n",
       "      <td>26.660471</td>\n",
       "      <td>26.667007</td>\n",
       "      <td>26.668355</td>\n",
       "      <td>26.665224</td>\n",
       "      <td>25.984425</td>\n",
       "      <td>25.991292</td>\n",
       "      <td>...</td>\n",
       "      <td>28.085275</td>\n",
       "      <td>28.077510</td>\n",
       "      <td>28.077076</td>\n",
       "      <td>28.078980</td>\n",
       "      <td>28.080571</td>\n",
       "      <td>28.080077</td>\n",
       "      <td>28.071883</td>\n",
       "      <td>28.080866</td>\n",
       "      <td>28.077996</td>\n",
       "      <td>28.075594</td>\n",
       "    </tr>\n",
       "    <tr>\n",
       "      <td>4477</td>\n",
       "      <td>26.548611</td>\n",
       "      <td>26.544213</td>\n",
       "      <td>26.534818</td>\n",
       "      <td>26.535728</td>\n",
       "      <td>26.533137</td>\n",
       "      <td>26.539670</td>\n",
       "      <td>26.541017</td>\n",
       "      <td>26.537887</td>\n",
       "      <td>26.099444</td>\n",
       "      <td>26.106308</td>\n",
       "      <td>...</td>\n",
       "      <td>28.050995</td>\n",
       "      <td>28.043255</td>\n",
       "      <td>28.042802</td>\n",
       "      <td>28.044720</td>\n",
       "      <td>28.046306</td>\n",
       "      <td>28.045814</td>\n",
       "      <td>28.037646</td>\n",
       "      <td>28.046580</td>\n",
       "      <td>28.043739</td>\n",
       "      <td>28.041345</td>\n",
       "    </tr>\n",
       "  </tbody>\n",
       "</table>\n",
       "<p>4478 rows × 48 columns</p>\n",
       "</div>"
      ],
      "text/plain": [
       "             V1         V2         V3         V4         V5         V6  \\\n",
       "0     26.981230  26.981230  26.973406  26.981230  26.981230  26.981230   \n",
       "1     26.595084  26.590496  26.581026  26.581640  26.578936  26.585754   \n",
       "2     26.558807  26.554412  26.545014  26.545930  26.543340  26.549870   \n",
       "3     26.517370  26.512969  26.503568  26.504474  26.501881  26.508420   \n",
       "4     26.582297  26.577895  26.568483  26.569400  26.566807  26.573346   \n",
       "...         ...        ...        ...        ...        ...        ...   \n",
       "4473  26.608449  26.604055  26.594667  26.595574  26.592984  26.599513   \n",
       "4474  26.624369  26.619973  26.610559  26.611489  26.608898  26.615430   \n",
       "4475  26.648529  26.644119  26.634718  26.635606  26.633007  26.639560   \n",
       "4476  26.675953  26.671554  26.662162  26.663063  26.660471  26.667007   \n",
       "4477  26.548611  26.544213  26.534818  26.535728  26.533137  26.539670   \n",
       "\n",
       "             V7         V8         V9        V10  ...        V39        V40  \\\n",
       "0     26.981230  26.981230  25.676113  25.676113  ...  25.923836  25.923836   \n",
       "1     26.587160  26.583894  26.062479  26.069642  ...  26.130718  26.121655   \n",
       "2     26.551216  26.548088  26.091001  26.097861  ...  26.101107  26.092450   \n",
       "3     26.509769  26.506636  26.129142  26.136012  ...  26.082333  26.073660   \n",
       "4     26.574695  26.571562  26.075063  26.081934  ...  26.121293  26.112622   \n",
       "...         ...        ...        ...        ...  ...        ...        ...   \n",
       "4473  26.600860  26.597732  26.049304  26.056164  ...  28.082237  28.074487   \n",
       "4474  26.616777  26.613648  26.039757  26.046619  ...  28.077814  28.070055   \n",
       "4475  26.640912  26.637772  26.016033  26.022918  ...  28.093464  28.085698   \n",
       "4476  26.668355  26.665224  25.984425  25.991292  ...  28.085275  28.077510   \n",
       "4477  26.541017  26.537887  26.099444  26.106308  ...  28.050995  28.043255   \n",
       "\n",
       "            V41        V42        V43        V44        V45        V46  \\\n",
       "0     25.916177  25.923836  25.923836  25.923836  25.923836  25.916177   \n",
       "1     26.121467  26.123370  26.125228  26.124651  26.115087  26.125892   \n",
       "2     26.091930  26.094089  26.095863  26.095312  26.086177  26.096156   \n",
       "3     26.073154  26.075302  26.077079  26.076527  26.067376  26.077387   \n",
       "4     26.112098  26.114264  26.116041  26.115489  26.106339  26.116331   \n",
       "...         ...        ...        ...        ...        ...        ...   \n",
       "4473  28.074026  28.075954  28.077542  28.077049  28.068871  28.077809   \n",
       "4474  28.069594  28.071524  28.073114  28.072620  28.064433  28.073381   \n",
       "4475  28.085244  28.087168  28.088760  28.088266  28.080070  28.089035   \n",
       "4476  28.077076  28.078980  28.080571  28.080077  28.071883  28.080866   \n",
       "4477  28.042802  28.044720  28.046306  28.045814  28.037646  28.046580   \n",
       "\n",
       "            V47        V48  \n",
       "0     25.923836  25.923836  \n",
       "1     26.122222  26.119418  \n",
       "2     26.092992  26.090314  \n",
       "3     26.074203  26.071521  \n",
       "4     26.113165  26.110483  \n",
       "...         ...        ...  \n",
       "4473  28.074972  28.072575  \n",
       "4474  28.070541  28.068141  \n",
       "4475  28.086184  28.083782  \n",
       "4476  28.077996  28.075594  \n",
       "4477  28.043739  28.041345  \n",
       "\n",
       "[4478 rows x 48 columns]"
      ]
     },
     "execution_count": 84,
     "metadata": {},
     "output_type": "execute_result"
    }
   ],
   "source": [
    "# para la parte de clustering, podriamos hacerlo de varias maneras, la primera es realizar un PCA con 3 dimensiones\n",
    "# Lo cual no nos diria mucho por la interpretacion de las mismas.\n",
    "# La segunda seria Power, I promecio y Voltaje promedio, creo que esa podria ser una buena opcion\n"
   ]
  },
  {
   "cell_type": "code",
   "execution_count": 101,
   "metadata": {},
   "outputs": [],
   "source": [
    "dataset['I_ave'] = (dataset['I1']+dataset['I2']+dataset['I3'])/3\n",
    "dataset['V_ave'] = (dataset.iloc[: , 4:52].sum(axis=1))/48\n",
    "dataset_cluster = dataset[['Power', 'I_ave', 'V_ave']]"
   ]
  },
  {
   "cell_type": "code",
   "execution_count": 102,
   "metadata": {},
   "outputs": [
    {
     "data": {
      "image/png": "[encoded data removed]",
      "text/plain": [
       "<Figure size 640x480 with 1 Axes>"
      ]
     },
     "metadata": {},
     "output_type": "display_data"
    }
   ],
   "source": [
    "Sum_of_squared_distances = []\n",
    "K = range(1,10)\n",
    "for k in K:\n",
    "    km = KMeans(n_clusters=k)\n",
    "    km = km.fit(dataset_cluster)\n",
    "    Sum_of_squared_distances.append(km.inertia_)\n",
    "    \n",
    "plt.plot(K, Sum_of_squared_distances, 'bx-')\n",
    "plt.xlabel('k')\n",
    "plt.ylabel('Sum_of_squared_distances')\n",
    "plt.title('Elbow Method For Optimal k')\n",
    "plt.show()"
   ]
  },
  {
   "cell_type": "code",
   "execution_count": 103,
   "metadata": {},
   "outputs": [
    {
     "data": {
      "text/plain": [
       "array([2, 2, 2, ..., 0, 0, 0])"
      ]
     },
     "execution_count": 103,
     "metadata": {},
     "output_type": "execute_result"
    }
   ],
   "source": [
    "kmeans = KMeans(n_clusters=4)\n",
    "kmeans = kmeans.fit(dataset_cluster)\n",
    "labels = kmeans.predict(dataset_cluster)\n",
    "labels"
   ]
  },
  {
   "cell_type": "code",
   "execution_count": 104,
   "metadata": {},
   "outputs": [
    {
     "data": {
      "image/png": "[encoded data removed]",
      "text/plain": [
       "<Figure size 560x560 with 1 Axes>"
      ]
     },
     "metadata": {},
     "output_type": "display_data"
    }
   ],
   "source": [
    "colores = ['lightgreen','orange','lightblue', 'purple','bisque', 'peru', 'coral']\n",
    "asignar=[]\n",
    "for row in labels:\n",
    "    asignar.append(colores[row])\n",
    "plt.style.use('_classic_test')\n",
    "fig = plt.figure(figsize=(7,7))\n",
    "#ax = fig.gca(projection='3d')\n",
    "ax = Axes3D(fig)\n",
    "ax.scatter(dataset_cluster.iloc[:, 2], dataset_cluster.iloc[:, 1], dataset_cluster.iloc[:, 0], \n",
    "          c=asignar, marker='s', s=50, edgecolor='black')\n",
    "ax.scatter(kmeans.cluster_centers_[:, 2], kmeans.cluster_centers_[:, 1], \n",
    "           kmeans.cluster_centers_[:, 0], marker='*', c='red', edgecolor='black', s=250, label='centroids')\n",
    "\n",
    "ax.legend(scatterpoints=1)\n",
    "#ax.legend(loc='upper right', fancybox=True, framealpha=1, shadow=True, borderpad=1)\n",
    "ax.xaxis.pane.set_edgecolor('black')\n",
    "ax.yaxis.pane.set_edgecolor('black')\n",
    "ax.zaxis.pane.set_edgecolor('black')\n",
    "\n",
    "ax.tick_params(axis='x', labelcolor='black')\n",
    "ax.tick_params(axis='y', labelcolor='black')\n",
    "ax.tick_params(axis='z', labelcolor='black')\n",
    "ax.set_xlabel('Voltage (V)',color='blue')\n",
    "ax.set_ylabel('Current (A)',color='blue')\n",
    "ax.set_zlabel('Power (W)',color='blue')\n",
    "ax.set_title('K-means to PV Array 1, Module 2')\n",
    "plt.savefig('K-means to PV Array 1, Module 2.png')\n",
    "plt.show()"
   ]
  },
  {
   "cell_type": "code",
   "execution_count": 106,
   "metadata": {},
   "outputs": [
    {
     "data": {
      "text/html": [
       "<div>\n",
       "<style scoped>\n",
       "    .dataframe tbody tr th:only-of-type {\n",
       "        vertical-align: middle;\n",
       "    }\n",
       "\n",
       "    .dataframe tbody tr th {\n",
       "        vertical-align: top;\n",
       "    }\n",
       "\n",
       "    .dataframe thead th {\n",
       "        text-align: right;\n",
       "    }\n",
       "</style>\n",
       "<table border=\"1\" class=\"dataframe\">\n",
       "  <thead>\n",
       "    <tr style=\"text-align: right;\">\n",
       "      <th></th>\n",
       "      <th>Power</th>\n",
       "      <th>I_ave</th>\n",
       "      <th>V_ave</th>\n",
       "    </tr>\n",
       "  </thead>\n",
       "  <tbody>\n",
       "    <tr>\n",
       "      <td>102</td>\n",
       "      <td>8973.854359</td>\n",
       "      <td>7.114860</td>\n",
       "      <td>26.327180</td>\n",
       "    </tr>\n",
       "    <tr>\n",
       "      <td>103</td>\n",
       "      <td>9050.092954</td>\n",
       "      <td>7.175273</td>\n",
       "      <td>26.327301</td>\n",
       "    </tr>\n",
       "    <tr>\n",
       "      <td>104</td>\n",
       "      <td>9049.136066</td>\n",
       "      <td>7.174298</td>\n",
       "      <td>26.328094</td>\n",
       "    </tr>\n",
       "    <tr>\n",
       "      <td>105</td>\n",
       "      <td>9028.141579</td>\n",
       "      <td>7.158353</td>\n",
       "      <td>26.325525</td>\n",
       "    </tr>\n",
       "    <tr>\n",
       "      <td>106</td>\n",
       "      <td>9024.672583</td>\n",
       "      <td>7.155589</td>\n",
       "      <td>26.325574</td>\n",
       "    </tr>\n",
       "    <tr>\n",
       "      <td>...</td>\n",
       "      <td>...</td>\n",
       "      <td>...</td>\n",
       "      <td>...</td>\n",
       "    </tr>\n",
       "    <tr>\n",
       "      <td>4473</td>\n",
       "      <td>9014.819058</td>\n",
       "      <td>7.147553</td>\n",
       "      <td>26.326395</td>\n",
       "    </tr>\n",
       "    <tr>\n",
       "      <td>4474</td>\n",
       "      <td>9035.946557</td>\n",
       "      <td>7.163437</td>\n",
       "      <td>26.329577</td>\n",
       "    </tr>\n",
       "    <tr>\n",
       "      <td>4475</td>\n",
       "      <td>9021.186553</td>\n",
       "      <td>7.151677</td>\n",
       "      <td>26.329793</td>\n",
       "    </tr>\n",
       "    <tr>\n",
       "      <td>4476</td>\n",
       "      <td>9003.430889</td>\n",
       "      <td>7.138168</td>\n",
       "      <td>26.327705</td>\n",
       "    </tr>\n",
       "    <tr>\n",
       "      <td>4477</td>\n",
       "      <td>9010.428530</td>\n",
       "      <td>7.145391</td>\n",
       "      <td>26.321544</td>\n",
       "    </tr>\n",
       "  </tbody>\n",
       "</table>\n",
       "<p>2493 rows × 3 columns</p>\n",
       "</div>"
      ],
      "text/plain": [
       "            Power     I_ave      V_ave\n",
       "102   8973.854359  7.114860  26.327180\n",
       "103   9050.092954  7.175273  26.327301\n",
       "104   9049.136066  7.174298  26.328094\n",
       "105   9028.141579  7.158353  26.325525\n",
       "106   9024.672583  7.155589  26.325574\n",
       "...           ...       ...        ...\n",
       "4473  9014.819058  7.147553  26.326395\n",
       "4474  9035.946557  7.163437  26.329577\n",
       "4475  9021.186553  7.151677  26.329793\n",
       "4476  9003.430889  7.138168  26.327705\n",
       "4477  9010.428530  7.145391  26.321544\n",
       "\n",
       "[2493 rows x 3 columns]"
      ]
     },
     "execution_count": 106,
     "metadata": {},
     "output_type": "execute_result"
    }
   ],
   "source": [
    "# NO normal\n",
    "dataset['I_ave'] = (dataset['I1']+dataset['I2']+dataset['I3'])/3\n",
    "dataset['V_ave'] = (dataset.iloc[: , 4:52].sum(axis=1))/48\n",
    "dataset_cluster_no_normal = dataset[['Power', 'I_ave', 'V_ave']]\n",
    "dataset_cluster_no_normal[dataset_cluster_no_normal['Power'] < 9200]"
   ]
  },
  {
   "cell_type": "code",
   "execution_count": 107,
   "metadata": {},
   "outputs": [
    {
     "data": {
      "image/png": "[encoded data removed]",
      "text/plain": [
       "<Figure size 640x480 with 1 Axes>"
      ]
     },
     "metadata": {},
     "output_type": "display_data"
    }
   ],
   "source": [
    "Sum_of_squared_distances = []\n",
    "K = range(1,10)\n",
    "for k in K:\n",
    "    km = KMeans(n_clusters=k)\n",
    "    km = km.fit(dataset_cluster_no_normal)\n",
    "    Sum_of_squared_distances.append(km.inertia_)\n",
    "    \n",
    "plt.plot(K, Sum_of_squared_distances, 'bx-')\n",
    "plt.xlabel('k')\n",
    "plt.ylabel('Sum_of_squared_distances')\n",
    "plt.title('Elbow Method For Optimal k')\n",
    "plt.show()"
   ]
  },
  {
   "cell_type": "markdown",
   "metadata": {},
   "source": [
    "## Clustering por corriente"
   ]
  },
  {
   "cell_type": "code",
   "execution_count": 5,
   "metadata": {},
   "outputs": [],
   "source": [
    "dataset_i1_v = dataset[['I1', 'V1', 'V2', 'V3', 'V4', 'V5', 'V6', 'V7', 'V8', 'V9', 'V10', 'V11', 'V12', 'V13', 'V14', 'V15', 'V16']]"
   ]
  },
  {
   "cell_type": "code",
   "execution_count": 14,
   "metadata": {},
   "outputs": [],
   "source": [
    "new_df = pd.DataFrame(columns= ['voltaje' , 'valor', 'i1'])\n",
    "for i in range(len(dataset_i1_v)):\n",
    "    v_temporal = dataset[['V1', 'V2', 'V3', 'V4', 'V5', 'V6', 'V7', 'V8', 'V9', 'V10', 'V11', 'V12', 'V13', 'V14', 'V15', 'V16']].loc[i].reset_index()\n",
    "    lista1 = [dataset_i1_v[['I1']].iloc[i]] * 16\n",
    "    df_temp_index = pd.concat([v_temporal, pd.DataFrame(lista1, columns = ['I1']).reset_index()], axis =1)\n",
    "    df_temp_index.columns = ['voltaje', 'valor', 'inn', 'i1']\n",
    "    df_temp_index.drop(['inn'], axis = 1, inplace = True)\n",
    "    df_temp_index\n",
    "    ### Aqui va el nuevo pandas DF para meter los nuevos datos y siempre hacerle append\n",
    "    ### TODO\n",
    "    new_df= new_df.append(df_temp_index)\n",
    "    \n",
    "    "
   ]
  },
  {
   "cell_type": "code",
   "execution_count": 17,
   "metadata": {},
   "outputs": [
    {
     "name": "stdout",
     "output_type": "stream",
     "text": [
      " New Dataframe shape (71648, 3)\n"
     ]
    },
    {
     "data": {
      "text/html": [
       "<div>\n",
       "<style scoped>\n",
       "    .dataframe tbody tr th:only-of-type {\n",
       "        vertical-align: middle;\n",
       "    }\n",
       "\n",
       "    .dataframe tbody tr th {\n",
       "        vertical-align: top;\n",
       "    }\n",
       "\n",
       "    .dataframe thead th {\n",
       "        text-align: right;\n",
       "    }\n",
       "</style>\n",
       "<table border=\"1\" class=\"dataframe\">\n",
       "  <thead>\n",
       "    <tr style=\"text-align: right;\">\n",
       "      <th></th>\n",
       "      <th>voltaje</th>\n",
       "      <th>valor</th>\n",
       "      <th>i1</th>\n",
       "    </tr>\n",
       "  </thead>\n",
       "  <tbody>\n",
       "    <tr>\n",
       "      <td>0</td>\n",
       "      <td>V1</td>\n",
       "      <td>26.981230</td>\n",
       "      <td>7.824120</td>\n",
       "    </tr>\n",
       "    <tr>\n",
       "      <td>1</td>\n",
       "      <td>V2</td>\n",
       "      <td>26.981230</td>\n",
       "      <td>7.824120</td>\n",
       "    </tr>\n",
       "    <tr>\n",
       "      <td>2</td>\n",
       "      <td>V3</td>\n",
       "      <td>26.973406</td>\n",
       "      <td>7.824120</td>\n",
       "    </tr>\n",
       "    <tr>\n",
       "      <td>3</td>\n",
       "      <td>V4</td>\n",
       "      <td>26.981230</td>\n",
       "      <td>7.824120</td>\n",
       "    </tr>\n",
       "    <tr>\n",
       "      <td>4</td>\n",
       "      <td>V5</td>\n",
       "      <td>26.981230</td>\n",
       "      <td>7.824120</td>\n",
       "    </tr>\n",
       "    <tr>\n",
       "      <td>5</td>\n",
       "      <td>V6</td>\n",
       "      <td>26.981230</td>\n",
       "      <td>7.824120</td>\n",
       "    </tr>\n",
       "    <tr>\n",
       "      <td>6</td>\n",
       "      <td>V7</td>\n",
       "      <td>26.981230</td>\n",
       "      <td>7.824120</td>\n",
       "    </tr>\n",
       "    <tr>\n",
       "      <td>7</td>\n",
       "      <td>V8</td>\n",
       "      <td>26.981230</td>\n",
       "      <td>7.824120</td>\n",
       "    </tr>\n",
       "    <tr>\n",
       "      <td>8</td>\n",
       "      <td>V9</td>\n",
       "      <td>25.676113</td>\n",
       "      <td>7.824120</td>\n",
       "    </tr>\n",
       "    <tr>\n",
       "      <td>9</td>\n",
       "      <td>V10</td>\n",
       "      <td>25.676113</td>\n",
       "      <td>7.824120</td>\n",
       "    </tr>\n",
       "    <tr>\n",
       "      <td>10</td>\n",
       "      <td>V11</td>\n",
       "      <td>25.668289</td>\n",
       "      <td>7.824120</td>\n",
       "    </tr>\n",
       "    <tr>\n",
       "      <td>11</td>\n",
       "      <td>V12</td>\n",
       "      <td>25.676113</td>\n",
       "      <td>7.824120</td>\n",
       "    </tr>\n",
       "    <tr>\n",
       "      <td>12</td>\n",
       "      <td>V13</td>\n",
       "      <td>25.676113</td>\n",
       "      <td>7.824120</td>\n",
       "    </tr>\n",
       "    <tr>\n",
       "      <td>13</td>\n",
       "      <td>V14</td>\n",
       "      <td>25.676113</td>\n",
       "      <td>7.824120</td>\n",
       "    </tr>\n",
       "    <tr>\n",
       "      <td>14</td>\n",
       "      <td>V15</td>\n",
       "      <td>25.676113</td>\n",
       "      <td>7.824120</td>\n",
       "    </tr>\n",
       "    <tr>\n",
       "      <td>15</td>\n",
       "      <td>V16</td>\n",
       "      <td>25.676113</td>\n",
       "      <td>7.824120</td>\n",
       "    </tr>\n",
       "    <tr>\n",
       "      <td>0</td>\n",
       "      <td>V1</td>\n",
       "      <td>26.595084</td>\n",
       "      <td>7.493863</td>\n",
       "    </tr>\n",
       "    <tr>\n",
       "      <td>1</td>\n",
       "      <td>V2</td>\n",
       "      <td>26.590496</td>\n",
       "      <td>7.493863</td>\n",
       "    </tr>\n",
       "    <tr>\n",
       "      <td>2</td>\n",
       "      <td>V3</td>\n",
       "      <td>26.581026</td>\n",
       "      <td>7.493863</td>\n",
       "    </tr>\n",
       "    <tr>\n",
       "      <td>3</td>\n",
       "      <td>V4</td>\n",
       "      <td>26.581640</td>\n",
       "      <td>7.493863</td>\n",
       "    </tr>\n",
       "  </tbody>\n",
       "</table>\n",
       "</div>"
      ],
      "text/plain": [
       "   voltaje      valor        i1\n",
       "0       V1  26.981230  7.824120\n",
       "1       V2  26.981230  7.824120\n",
       "2       V3  26.973406  7.824120\n",
       "3       V4  26.981230  7.824120\n",
       "4       V5  26.981230  7.824120\n",
       "5       V6  26.981230  7.824120\n",
       "6       V7  26.981230  7.824120\n",
       "7       V8  26.981230  7.824120\n",
       "8       V9  25.676113  7.824120\n",
       "9      V10  25.676113  7.824120\n",
       "10     V11  25.668289  7.824120\n",
       "11     V12  25.676113  7.824120\n",
       "12     V13  25.676113  7.824120\n",
       "13     V14  25.676113  7.824120\n",
       "14     V15  25.676113  7.824120\n",
       "15     V16  25.676113  7.824120\n",
       "0       V1  26.595084  7.493863\n",
       "1       V2  26.590496  7.493863\n",
       "2       V3  26.581026  7.493863\n",
       "3       V4  26.581640  7.493863"
      ]
     },
     "execution_count": 17,
     "metadata": {},
     "output_type": "execute_result"
    }
   ],
   "source": [
    "print(f' New Dataframe shape {new_df.shape}')\n",
    "new_df.head(20)"
   ]
  }
 ],
 "metadata": {
  "kernelspec": {
   "display_name": "Python 3",
   "language": "python",
   "name": "python3"
  },
  "language_info": {
   "codemirror_mode": {
    "name": "ipython",
    "version": 3
   },
   "file_extension": ".py",
   "mimetype": "text/x-python",
   "name": "python",
   "nbconvert_exporter": "python",
   "pygments_lexer": "ipython3",
   "version": "3.7.4"
  }
 },
 "nbformat": 4,
 "nbformat_minor": 2
}
